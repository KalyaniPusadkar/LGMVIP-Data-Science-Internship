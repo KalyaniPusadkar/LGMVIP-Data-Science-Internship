<html xmlns:v="urn:schemas-microsoft-com:vml"
xmlns:o="urn:schemas-microsoft-com:office:office"
xmlns:w="urn:schemas-microsoft-com:office:word"
xmlns:m="http://schemas.microsoft.com/office/2004/12/omml"
xmlns="http://www.w3.org/TR/REC-html40">

<head>
<meta http-equiv=Content-Type content="text/html; charset=us-ascii">
<meta name=ProgId content=Word.Document>
<meta name=Generator content="Microsoft Word 15">
<meta name=Originator content="Microsoft Word 15">
<link rel=File-List href="TASK-1(%20Iris%20Flower)_files/filelist.xml">
<!--[if gte mso 9]><xml>
 <o:DocumentProperties>
  <o:Author>Kalyani</o:Author>
  <o:Template>Normal</o:Template>
  <o:LastAuthor>Kalyani</o:LastAuthor>
  <o:Revision>2</o:Revision>
  <o:TotalTime>0</o:TotalTime>
  <o:Created>2022-05-31T16:47:00Z</o:Created>
  <o:LastSaved>2022-05-31T16:47:00Z</o:LastSaved>
  <o:Pages>1</o:Pages>
  <o:Words>183</o:Words>
  <o:Characters>1048</o:Characters>
  <o:Lines>8</o:Lines>
  <o:Paragraphs>2</o:Paragraphs>
  <o:CharactersWithSpaces>1229</o:CharactersWithSpaces>
  <o:Version>16.00</o:Version>
 </o:DocumentProperties>
 <o:OfficeDocumentSettings>
  <o:AllowPNG/>
 </o:OfficeDocumentSettings>
</xml><![endif]-->
<link rel=themeData href="TASK-1(%20Iris%20Flower)_files/themedata.thmx">
<link rel=colorSchemeMapping
href="TASK-1(%20Iris%20Flower)_files/colorschememapping.xml">
<!--[if gte mso 9]><xml>
 <w:WordDocument>
  <w:View>Print</w:View>
  <w:DontDisplayPageBoundaries/>
  <w:SpellingState>Clean</w:SpellingState>
  <w:GrammarState>Clean</w:GrammarState>
  <w:TrackMoves>false</w:TrackMoves>
  <w:TrackFormatting/>
  <w:ValidateAgainstSchemas/>
  <w:SaveIfXMLInvalid>false</w:SaveIfXMLInvalid>
  <w:IgnoreMixedContent>false</w:IgnoreMixedContent>
  <w:AlwaysShowPlaceholderText>false</w:AlwaysShowPlaceholderText>
  <w:DoNotPromoteQF/>
  <w:LidThemeOther>EN-IN</w:LidThemeOther>
  <w:LidThemeAsian>X-NONE</w:LidThemeAsian>
  <w:LidThemeComplexScript>X-NONE</w:LidThemeComplexScript>
  <w:Compatibility>
   <w:BreakWrappedTables/>
   <w:SplitPgBreakAndParaMark/>
  </w:Compatibility>
  <m:mathPr>
   <m:mathFont m:val="Cambria Math"/>
   <m:brkBin m:val="before"/>
   <m:brkBinSub m:val="&#45;-"/>
   <m:smallFrac m:val="off"/>
   <m:dispDef/>
   <m:lMargin m:val="0"/>
   <m:rMargin m:val="0"/>
   <m:defJc m:val="centerGroup"/>
   <m:wrapIndent m:val="1440"/>
   <m:intLim m:val="subSup"/>
   <m:naryLim m:val="undOvr"/>
  </m:mathPr></w:WordDocument>
</xml><![endif]--><!--[if gte mso 9]><xml>
 <w:LatentStyles DefLockedState="false" DefUnhideWhenUsed="false"
  DefSemiHidden="false" DefQFormat="false" DefPriority="99"
  LatentStyleCount="376">
  <w:LsdException Locked="false" Priority="0" QFormat="true" Name="Normal"/>
  <w:LsdException Locked="false" Priority="9" QFormat="true" Name="heading 1"/>
  <w:LsdException Locked="false" Priority="9" SemiHidden="true"
   UnhideWhenUsed="true" QFormat="true" Name="heading 2"/>
  <w:LsdException Locked="false" Priority="9" SemiHidden="true"
   UnhideWhenUsed="true" QFormat="true" Name="heading 3"/>
  <w:LsdException Locked="false" Priority="9" SemiHidden="true"
   UnhideWhenUsed="true" QFormat="true" Name="heading 4"/>
  <w:LsdException Locked="false" Priority="9" SemiHidden="true"
   UnhideWhenUsed="true" QFormat="true" Name="heading 5"/>
  <w:LsdException Locked="false" Priority="9" SemiHidden="true"
   UnhideWhenUsed="true" QFormat="true" Name="heading 6"/>
  <w:LsdException Locked="false" Priority="9" SemiHidden="true"
   UnhideWhenUsed="true" QFormat="true" Name="heading 7"/>
  <w:LsdException Locked="false" Priority="9" SemiHidden="true"
   UnhideWhenUsed="true" QFormat="true" Name="heading 8"/>
  <w:LsdException Locked="false" Priority="9" SemiHidden="true"
   UnhideWhenUsed="true" QFormat="true" Name="heading 9"/>
  <w:LsdException Locked="false" SemiHidden="true" UnhideWhenUsed="true"
   Name="index 1"/>
  <w:LsdException Locked="false" SemiHidden="true" UnhideWhenUsed="true"
   Name="index 2"/>
  <w:LsdException Locked="false" SemiHidden="true" UnhideWhenUsed="true"
   Name="index 3"/>
  <w:LsdException Locked="false" SemiHidden="true" UnhideWhenUsed="true"
   Name="index 4"/>
  <w:LsdException Locked="false" SemiHidden="true" UnhideWhenUsed="true"
   Name="index 5"/>
  <w:LsdException Locked="false" SemiHidden="true" UnhideWhenUsed="true"
   Name="index 6"/>
  <w:LsdException Locked="false" SemiHidden="true" UnhideWhenUsed="true"
   Name="index 7"/>
  <w:LsdException Locked="false" SemiHidden="true" UnhideWhenUsed="true"
   Name="index 8"/>
  <w:LsdException Locked="false" SemiHidden="true" UnhideWhenUsed="true"
   Name="index 9"/>
  <w:LsdException Locked="false" Priority="39" SemiHidden="true"
   UnhideWhenUsed="true" Name="toc 1"/>
  <w:LsdException Locked="false" Priority="39" SemiHidden="true"
   UnhideWhenUsed="true" Name="toc 2"/>
  <w:LsdException Locked="false" Priority="39" SemiHidden="true"
   UnhideWhenUsed="true" Name="toc 3"/>
  <w:LsdException Locked="false" Priority="39" SemiHidden="true"
   UnhideWhenUsed="true" Name="toc 4"/>
  <w:LsdException Locked="false" Priority="39" SemiHidden="true"
   UnhideWhenUsed="true" Name="toc 5"/>
  <w:LsdException Locked="false" Priority="39" SemiHidden="true"
   UnhideWhenUsed="true" Name="toc 6"/>
  <w:LsdException Locked="false" Priority="39" SemiHidden="true"
   UnhideWhenUsed="true" Name="toc 7"/>
  <w:LsdException Locked="false" Priority="39" SemiHidden="true"
   UnhideWhenUsed="true" Name="toc 8"/>
  <w:LsdException Locked="false" Priority="39" SemiHidden="true"
   UnhideWhenUsed="true" Name="toc 9"/>
  <w:LsdException Locked="false" SemiHidden="true" UnhideWhenUsed="true"
   Name="Normal Indent"/>
  <w:LsdException Locked="false" SemiHidden="true" UnhideWhenUsed="true"
   Name="footnote text"/>
  <w:LsdException Locked="false" SemiHidden="true" UnhideWhenUsed="true"
   Name="annotation text"/>
  <w:LsdException Locked="false" SemiHidden="true" UnhideWhenUsed="true"
   Name="header"/>
  <w:LsdException Locked="false" SemiHidden="true" UnhideWhenUsed="true"
   Name="footer"/>
  <w:LsdException Locked="false" SemiHidden="true" UnhideWhenUsed="true"
   Name="index heading"/>
  <w:LsdException Locked="false" Priority="35" SemiHidden="true"
   UnhideWhenUsed="true" QFormat="true" Name="caption"/>
  <w:LsdException Locked="false" SemiHidden="true" UnhideWhenUsed="true"
   Name="table of figures"/>
  <w:LsdException Locked="false" SemiHidden="true" UnhideWhenUsed="true"
   Name="envelope address"/>
  <w:LsdException Locked="false" SemiHidden="true" UnhideWhenUsed="true"
   Name="envelope return"/>
  <w:LsdException Locked="false" SemiHidden="true" UnhideWhenUsed="true"
   Name="footnote reference"/>
  <w:LsdException Locked="false" SemiHidden="true" UnhideWhenUsed="true"
   Name="annotation reference"/>
  <w:LsdException Locked="false" SemiHidden="true" UnhideWhenUsed="true"
   Name="line number"/>
  <w:LsdException Locked="false" SemiHidden="true" UnhideWhenUsed="true"
   Name="page number"/>
  <w:LsdException Locked="false" SemiHidden="true" UnhideWhenUsed="true"
   Name="endnote reference"/>
  <w:LsdException Locked="false" SemiHidden="true" UnhideWhenUsed="true"
   Name="endnote text"/>
  <w:LsdException Locked="false" SemiHidden="true" UnhideWhenUsed="true"
   Name="table of authorities"/>
  <w:LsdException Locked="false" SemiHidden="true" UnhideWhenUsed="true"
   Name="macro"/>
  <w:LsdException Locked="false" SemiHidden="true" UnhideWhenUsed="true"
   Name="toa heading"/>
  <w:LsdException Locked="false" SemiHidden="true" UnhideWhenUsed="true"
   Name="List"/>
  <w:LsdException Locked="false" SemiHidden="true" UnhideWhenUsed="true"
   Name="List Bullet"/>
  <w:LsdException Locked="false" SemiHidden="true" UnhideWhenUsed="true"
   Name="List Number"/>
  <w:LsdException Locked="false" SemiHidden="true" UnhideWhenUsed="true"
   Name="List 2"/>
  <w:LsdException Locked="false" SemiHidden="true" UnhideWhenUsed="true"
   Name="List 3"/>
  <w:LsdException Locked="false" SemiHidden="true" UnhideWhenUsed="true"
   Name="List 4"/>
  <w:LsdException Locked="false" SemiHidden="true" UnhideWhenUsed="true"
   Name="List 5"/>
  <w:LsdException Locked="false" SemiHidden="true" UnhideWhenUsed="true"
   Name="List Bullet 2"/>
  <w:LsdException Locked="false" SemiHidden="true" UnhideWhenUsed="true"
   Name="List Bullet 3"/>
  <w:LsdException Locked="false" SemiHidden="true" UnhideWhenUsed="true"
   Name="List Bullet 4"/>
  <w:LsdException Locked="false" SemiHidden="true" UnhideWhenUsed="true"
   Name="List Bullet 5"/>
  <w:LsdException Locked="false" SemiHidden="true" UnhideWhenUsed="true"
   Name="List Number 2"/>
  <w:LsdException Locked="false" SemiHidden="true" UnhideWhenUsed="true"
   Name="List Number 3"/>
  <w:LsdException Locked="false" SemiHidden="true" UnhideWhenUsed="true"
   Name="List Number 4"/>
  <w:LsdException Locked="false" SemiHidden="true" UnhideWhenUsed="true"
   Name="List Number 5"/>
  <w:LsdException Locked="false" Priority="10" QFormat="true" Name="Title"/>
  <w:LsdException Locked="false" SemiHidden="true" UnhideWhenUsed="true"
   Name="Closing"/>
  <w:LsdException Locked="false" SemiHidden="true" UnhideWhenUsed="true"
   Name="Signature"/>
  <w:LsdException Locked="false" Priority="1" SemiHidden="true"
   UnhideWhenUsed="true" Name="Default Paragraph Font"/>
  <w:LsdException Locked="false" SemiHidden="true" UnhideWhenUsed="true"
   Name="Body Text"/>
  <w:LsdException Locked="false" SemiHidden="true" UnhideWhenUsed="true"
   Name="Body Text Indent"/>
  <w:LsdException Locked="false" SemiHidden="true" UnhideWhenUsed="true"
   Name="List Continue"/>
  <w:LsdException Locked="false" SemiHidden="true" UnhideWhenUsed="true"
   Name="List Continue 2"/>
  <w:LsdException Locked="false" SemiHidden="true" UnhideWhenUsed="true"
   Name="List Continue 3"/>
  <w:LsdException Locked="false" SemiHidden="true" UnhideWhenUsed="true"
   Name="List Continue 4"/>
  <w:LsdException Locked="false" SemiHidden="true" UnhideWhenUsed="true"
   Name="List Continue 5"/>
  <w:LsdException Locked="false" SemiHidden="true" UnhideWhenUsed="true"
   Name="Message Header"/>
  <w:LsdException Locked="false" Priority="11" QFormat="true" Name="Subtitle"/>
  <w:LsdException Locked="false" SemiHidden="true" UnhideWhenUsed="true"
   Name="Salutation"/>
  <w:LsdException Locked="false" SemiHidden="true" UnhideWhenUsed="true"
   Name="Date"/>
  <w:LsdException Locked="false" SemiHidden="true" UnhideWhenUsed="true"
   Name="Body Text First Indent"/>
  <w:LsdException Locked="false" SemiHidden="true" UnhideWhenUsed="true"
   Name="Body Text First Indent 2"/>
  <w:LsdException Locked="false" SemiHidden="true" UnhideWhenUsed="true"
   Name="Note Heading"/>
  <w:LsdException Locked="false" SemiHidden="true" UnhideWhenUsed="true"
   Name="Body Text 2"/>
  <w:LsdException Locked="false" SemiHidden="true" UnhideWhenUsed="true"
   Name="Body Text 3"/>
  <w:LsdException Locked="false" SemiHidden="true" UnhideWhenUsed="true"
   Name="Body Text Indent 2"/>
  <w:LsdException Locked="false" SemiHidden="true" UnhideWhenUsed="true"
   Name="Body Text Indent 3"/>
  <w:LsdException Locked="false" SemiHidden="true" UnhideWhenUsed="true"
   Name="Block Text"/>
  <w:LsdException Locked="false" SemiHidden="true" UnhideWhenUsed="true"
   Name="Hyperlink"/>
  <w:LsdException Locked="false" SemiHidden="true" UnhideWhenUsed="true"
   Name="FollowedHyperlink"/>
  <w:LsdException Locked="false" Priority="22" QFormat="true" Name="Strong"/>
  <w:LsdException Locked="false" Priority="20" QFormat="true" Name="Emphasis"/>
  <w:LsdException Locked="false" SemiHidden="true" UnhideWhenUsed="true"
   Name="Document Map"/>
  <w:LsdException Locked="false" SemiHidden="true" UnhideWhenUsed="true"
   Name="Plain Text"/>
  <w:LsdException Locked="false" SemiHidden="true" UnhideWhenUsed="true"
   Name="E-mail Signature"/>
  <w:LsdException Locked="false" SemiHidden="true" UnhideWhenUsed="true"
   Name="HTML Top of Form"/>
  <w:LsdException Locked="false" SemiHidden="true" UnhideWhenUsed="true"
   Name="HTML Bottom of Form"/>
  <w:LsdException Locked="false" SemiHidden="true" UnhideWhenUsed="true"
   Name="Normal (Web)"/>
  <w:LsdException Locked="false" SemiHidden="true" UnhideWhenUsed="true"
   Name="HTML Acronym"/>
  <w:LsdException Locked="false" SemiHidden="true" UnhideWhenUsed="true"
   Name="HTML Address"/>
  <w:LsdException Locked="false" SemiHidden="true" UnhideWhenUsed="true"
   Name="HTML Cite"/>
  <w:LsdException Locked="false" SemiHidden="true" UnhideWhenUsed="true"
   Name="HTML Code"/>
  <w:LsdException Locked="false" SemiHidden="true" UnhideWhenUsed="true"
   Name="HTML Definition"/>
  <w:LsdException Locked="false" SemiHidden="true" UnhideWhenUsed="true"
   Name="HTML Keyboard"/>
  <w:LsdException Locked="false" SemiHidden="true" UnhideWhenUsed="true"
   Name="HTML Preformatted"/>
  <w:LsdException Locked="false" SemiHidden="true" UnhideWhenUsed="true"
   Name="HTML Sample"/>
  <w:LsdException Locked="false" SemiHidden="true" UnhideWhenUsed="true"
   Name="HTML Typewriter"/>
  <w:LsdException Locked="false" SemiHidden="true" UnhideWhenUsed="true"
   Name="HTML Variable"/>
  <w:LsdException Locked="false" SemiHidden="true" UnhideWhenUsed="true"
   Name="Normal Table"/>
  <w:LsdException Locked="false" SemiHidden="true" UnhideWhenUsed="true"
   Name="annotation subject"/>
  <w:LsdException Locked="false" SemiHidden="true" UnhideWhenUsed="true"
   Name="No List"/>
  <w:LsdException Locked="false" SemiHidden="true" UnhideWhenUsed="true"
   Name="Outline List 1"/>
  <w:LsdException Locked="false" SemiHidden="true" UnhideWhenUsed="true"
   Name="Outline List 2"/>
  <w:LsdException Locked="false" SemiHidden="true" UnhideWhenUsed="true"
   Name="Outline List 3"/>
  <w:LsdException Locked="false" SemiHidden="true" UnhideWhenUsed="true"
   Name="Table Simple 1"/>
  <w:LsdException Locked="false" SemiHidden="true" UnhideWhenUsed="true"
   Name="Table Simple 2"/>
  <w:LsdException Locked="false" SemiHidden="true" UnhideWhenUsed="true"
   Name="Table Simple 3"/>
  <w:LsdException Locked="false" SemiHidden="true" UnhideWhenUsed="true"
   Name="Table Classic 1"/>
  <w:LsdException Locked="false" SemiHidden="true" UnhideWhenUsed="true"
   Name="Table Classic 2"/>
  <w:LsdException Locked="false" SemiHidden="true" UnhideWhenUsed="true"
   Name="Table Classic 3"/>
  <w:LsdException Locked="false" SemiHidden="true" UnhideWhenUsed="true"
   Name="Table Classic 4"/>
  <w:LsdException Locked="false" SemiHidden="true" UnhideWhenUsed="true"
   Name="Table Colorful 1"/>
  <w:LsdException Locked="false" SemiHidden="true" UnhideWhenUsed="true"
   Name="Table Colorful 2"/>
  <w:LsdException Locked="false" SemiHidden="true" UnhideWhenUsed="true"
   Name="Table Colorful 3"/>
  <w:LsdException Locked="false" SemiHidden="true" UnhideWhenUsed="true"
   Name="Table Columns 1"/>
  <w:LsdException Locked="false" SemiHidden="true" UnhideWhenUsed="true"
   Name="Table Columns 2"/>
  <w:LsdException Locked="false" SemiHidden="true" UnhideWhenUsed="true"
   Name="Table Columns 3"/>
  <w:LsdException Locked="false" SemiHidden="true" UnhideWhenUsed="true"
   Name="Table Columns 4"/>
  <w:LsdException Locked="false" SemiHidden="true" UnhideWhenUsed="true"
   Name="Table Columns 5"/>
  <w:LsdException Locked="false" SemiHidden="true" UnhideWhenUsed="true"
   Name="Table Grid 1"/>
  <w:LsdException Locked="false" SemiHidden="true" UnhideWhenUsed="true"
   Name="Table Grid 2"/>
  <w:LsdException Locked="false" SemiHidden="true" UnhideWhenUsed="true"
   Name="Table Grid 3"/>
  <w:LsdException Locked="false" SemiHidden="true" UnhideWhenUsed="true"
   Name="Table Grid 4"/>
  <w:LsdException Locked="false" SemiHidden="true" UnhideWhenUsed="true"
   Name="Table Grid 5"/>
  <w:LsdException Locked="false" SemiHidden="true" UnhideWhenUsed="true"
   Name="Table Grid 6"/>
  <w:LsdException Locked="false" SemiHidden="true" UnhideWhenUsed="true"
   Name="Table Grid 7"/>
  <w:LsdException Locked="false" SemiHidden="true" UnhideWhenUsed="true"
   Name="Table Grid 8"/>
  <w:LsdException Locked="false" SemiHidden="true" UnhideWhenUsed="true"
   Name="Table List 1"/>
  <w:LsdException Locked="false" SemiHidden="true" UnhideWhenUsed="true"
   Name="Table List 2"/>
  <w:LsdException Locked="false" SemiHidden="true" UnhideWhenUsed="true"
   Name="Table List 3"/>
  <w:LsdException Locked="false" SemiHidden="true" UnhideWhenUsed="true"
   Name="Table List 4"/>
  <w:LsdException Locked="false" SemiHidden="true" UnhideWhenUsed="true"
   Name="Table List 5"/>
  <w:LsdException Locked="false" SemiHidden="true" UnhideWhenUsed="true"
   Name="Table List 6"/>
  <w:LsdException Locked="false" SemiHidden="true" UnhideWhenUsed="true"
   Name="Table List 7"/>
  <w:LsdException Locked="false" SemiHidden="true" UnhideWhenUsed="true"
   Name="Table List 8"/>
  <w:LsdException Locked="false" SemiHidden="true" UnhideWhenUsed="true"
   Name="Table 3D effects 1"/>
  <w:LsdException Locked="false" SemiHidden="true" UnhideWhenUsed="true"
   Name="Table 3D effects 2"/>
  <w:LsdException Locked="false" SemiHidden="true" UnhideWhenUsed="true"
   Name="Table 3D effects 3"/>
  <w:LsdException Locked="false" SemiHidden="true" UnhideWhenUsed="true"
   Name="Table Contemporary"/>
  <w:LsdException Locked="false" SemiHidden="true" UnhideWhenUsed="true"
   Name="Table Elegant"/>
  <w:LsdException Locked="false" SemiHidden="true" UnhideWhenUsed="true"
   Name="Table Professional"/>
  <w:LsdException Locked="false" SemiHidden="true" UnhideWhenUsed="true"
   Name="Table Subtle 1"/>
  <w:LsdException Locked="false" SemiHidden="true" UnhideWhenUsed="true"
   Name="Table Subtle 2"/>
  <w:LsdException Locked="false" SemiHidden="true" UnhideWhenUsed="true"
   Name="Table Web 1"/>
  <w:LsdException Locked="false" SemiHidden="true" UnhideWhenUsed="true"
   Name="Table Web 2"/>
  <w:LsdException Locked="false" SemiHidden="true" UnhideWhenUsed="true"
   Name="Table Web 3"/>
  <w:LsdException Locked="false" SemiHidden="true" UnhideWhenUsed="true"
   Name="Balloon Text"/>
  <w:LsdException Locked="false" Priority="39" Name="Table Grid"/>
  <w:LsdException Locked="false" SemiHidden="true" UnhideWhenUsed="true"
   Name="Table Theme"/>
  <w:LsdException Locked="false" SemiHidden="true" Name="Placeholder Text"/>
  <w:LsdException Locked="false" Priority="1" QFormat="true" Name="No Spacing"/>
  <w:LsdException Locked="false" Priority="60" Name="Light Shading"/>
  <w:LsdException Locked="false" Priority="61" Name="Light List"/>
  <w:LsdException Locked="false" Priority="62" Name="Light Grid"/>
  <w:LsdException Locked="false" Priority="63" Name="Medium Shading 1"/>
  <w:LsdException Locked="false" Priority="64" Name="Medium Shading 2"/>
  <w:LsdException Locked="false" Priority="65" Name="Medium List 1"/>
  <w:LsdException Locked="false" Priority="66" Name="Medium List 2"/>
  <w:LsdException Locked="false" Priority="67" Name="Medium Grid 1"/>
  <w:LsdException Locked="false" Priority="68" Name="Medium Grid 2"/>
  <w:LsdException Locked="false" Priority="69" Name="Medium Grid 3"/>
  <w:LsdException Locked="false" Priority="70" Name="Dark List"/>
  <w:LsdException Locked="false" Priority="71" Name="Colorful Shading"/>
  <w:LsdException Locked="false" Priority="72" Name="Colorful List"/>
  <w:LsdException Locked="false" Priority="73" Name="Colorful Grid"/>
  <w:LsdException Locked="false" Priority="60" Name="Light Shading Accent 1"/>
  <w:LsdException Locked="false" Priority="61" Name="Light List Accent 1"/>
  <w:LsdException Locked="false" Priority="62" Name="Light Grid Accent 1"/>
  <w:LsdException Locked="false" Priority="63" Name="Medium Shading 1 Accent 1"/>
  <w:LsdException Locked="false" Priority="64" Name="Medium Shading 2 Accent 1"/>
  <w:LsdException Locked="false" Priority="65" Name="Medium List 1 Accent 1"/>
  <w:LsdException Locked="false" SemiHidden="true" Name="Revision"/>
  <w:LsdException Locked="false" Priority="34" QFormat="true"
   Name="List Paragraph"/>
  <w:LsdException Locked="false" Priority="29" QFormat="true" Name="Quote"/>
  <w:LsdException Locked="false" Priority="30" QFormat="true"
   Name="Intense Quote"/>
  <w:LsdException Locked="false" Priority="66" Name="Medium List 2 Accent 1"/>
  <w:LsdException Locked="false" Priority="67" Name="Medium Grid 1 Accent 1"/>
  <w:LsdException Locked="false" Priority="68" Name="Medium Grid 2 Accent 1"/>
  <w:LsdException Locked="false" Priority="69" Name="Medium Grid 3 Accent 1"/>
  <w:LsdException Locked="false" Priority="70" Name="Dark List Accent 1"/>
  <w:LsdException Locked="false" Priority="71" Name="Colorful Shading Accent 1"/>
  <w:LsdException Locked="false" Priority="72" Name="Colorful List Accent 1"/>
  <w:LsdException Locked="false" Priority="73" Name="Colorful Grid Accent 1"/>
  <w:LsdException Locked="false" Priority="60" Name="Light Shading Accent 2"/>
  <w:LsdException Locked="false" Priority="61" Name="Light List Accent 2"/>
  <w:LsdException Locked="false" Priority="62" Name="Light Grid Accent 2"/>
  <w:LsdException Locked="false" Priority="63" Name="Medium Shading 1 Accent 2"/>
  <w:LsdException Locked="false" Priority="64" Name="Medium Shading 2 Accent 2"/>
  <w:LsdException Locked="false" Priority="65" Name="Medium List 1 Accent 2"/>
  <w:LsdException Locked="false" Priority="66" Name="Medium List 2 Accent 2"/>
  <w:LsdException Locked="false" Priority="67" Name="Medium Grid 1 Accent 2"/>
  <w:LsdException Locked="false" Priority="68" Name="Medium Grid 2 Accent 2"/>
  <w:LsdException Locked="false" Priority="69" Name="Medium Grid 3 Accent 2"/>
  <w:LsdException Locked="false" Priority="70" Name="Dark List Accent 2"/>
  <w:LsdException Locked="false" Priority="71" Name="Colorful Shading Accent 2"/>
  <w:LsdException Locked="false" Priority="72" Name="Colorful List Accent 2"/>
  <w:LsdException Locked="false" Priority="73" Name="Colorful Grid Accent 2"/>
  <w:LsdException Locked="false" Priority="60" Name="Light Shading Accent 3"/>
  <w:LsdException Locked="false" Priority="61" Name="Light List Accent 3"/>
  <w:LsdException Locked="false" Priority="62" Name="Light Grid Accent 3"/>
  <w:LsdException Locked="false" Priority="63" Name="Medium Shading 1 Accent 3"/>
  <w:LsdException Locked="false" Priority="64" Name="Medium Shading 2 Accent 3"/>
  <w:LsdException Locked="false" Priority="65" Name="Medium List 1 Accent 3"/>
  <w:LsdException Locked="false" Priority="66" Name="Medium List 2 Accent 3"/>
  <w:LsdException Locked="false" Priority="67" Name="Medium Grid 1 Accent 3"/>
  <w:LsdException Locked="false" Priority="68" Name="Medium Grid 2 Accent 3"/>
  <w:LsdException Locked="false" Priority="69" Name="Medium Grid 3 Accent 3"/>
  <w:LsdException Locked="false" Priority="70" Name="Dark List Accent 3"/>
  <w:LsdException Locked="false" Priority="71" Name="Colorful Shading Accent 3"/>
  <w:LsdException Locked="false" Priority="72" Name="Colorful List Accent 3"/>
  <w:LsdException Locked="false" Priority="73" Name="Colorful Grid Accent 3"/>
  <w:LsdException Locked="false" Priority="60" Name="Light Shading Accent 4"/>
  <w:LsdException Locked="false" Priority="61" Name="Light List Accent 4"/>
  <w:LsdException Locked="false" Priority="62" Name="Light Grid Accent 4"/>
  <w:LsdException Locked="false" Priority="63" Name="Medium Shading 1 Accent 4"/>
  <w:LsdException Locked="false" Priority="64" Name="Medium Shading 2 Accent 4"/>
  <w:LsdException Locked="false" Priority="65" Name="Medium List 1 Accent 4"/>
  <w:LsdException Locked="false" Priority="66" Name="Medium List 2 Accent 4"/>
  <w:LsdException Locked="false" Priority="67" Name="Medium Grid 1 Accent 4"/>
  <w:LsdException Locked="false" Priority="68" Name="Medium Grid 2 Accent 4"/>
  <w:LsdException Locked="false" Priority="69" Name="Medium Grid 3 Accent 4"/>
  <w:LsdException Locked="false" Priority="70" Name="Dark List Accent 4"/>
  <w:LsdException Locked="false" Priority="71" Name="Colorful Shading Accent 4"/>
  <w:LsdException Locked="false" Priority="72" Name="Colorful List Accent 4"/>
  <w:LsdException Locked="false" Priority="73" Name="Colorful Grid Accent 4"/>
  <w:LsdException Locked="false" Priority="60" Name="Light Shading Accent 5"/>
  <w:LsdException Locked="false" Priority="61" Name="Light List Accent 5"/>
  <w:LsdException Locked="false" Priority="62" Name="Light Grid Accent 5"/>
  <w:LsdException Locked="false" Priority="63" Name="Medium Shading 1 Accent 5"/>
  <w:LsdException Locked="false" Priority="64" Name="Medium Shading 2 Accent 5"/>
  <w:LsdException Locked="false" Priority="65" Name="Medium List 1 Accent 5"/>
  <w:LsdException Locked="false" Priority="66" Name="Medium List 2 Accent 5"/>
  <w:LsdException Locked="false" Priority="67" Name="Medium Grid 1 Accent 5"/>
  <w:LsdException Locked="false" Priority="68" Name="Medium Grid 2 Accent 5"/>
  <w:LsdException Locked="false" Priority="69" Name="Medium Grid 3 Accent 5"/>
  <w:LsdException Locked="false" Priority="70" Name="Dark List Accent 5"/>
  <w:LsdException Locked="false" Priority="71" Name="Colorful Shading Accent 5"/>
  <w:LsdException Locked="false" Priority="72" Name="Colorful List Accent 5"/>
  <w:LsdException Locked="false" Priority="73" Name="Colorful Grid Accent 5"/>
  <w:LsdException Locked="false" Priority="60" Name="Light Shading Accent 6"/>
  <w:LsdException Locked="false" Priority="61" Name="Light List Accent 6"/>
  <w:LsdException Locked="false" Priority="62" Name="Light Grid Accent 6"/>
  <w:LsdException Locked="false" Priority="63" Name="Medium Shading 1 Accent 6"/>
  <w:LsdException Locked="false" Priority="64" Name="Medium Shading 2 Accent 6"/>
  <w:LsdException Locked="false" Priority="65" Name="Medium List 1 Accent 6"/>
  <w:LsdException Locked="false" Priority="66" Name="Medium List 2 Accent 6"/>
  <w:LsdException Locked="false" Priority="67" Name="Medium Grid 1 Accent 6"/>
  <w:LsdException Locked="false" Priority="68" Name="Medium Grid 2 Accent 6"/>
  <w:LsdException Locked="false" Priority="69" Name="Medium Grid 3 Accent 6"/>
  <w:LsdException Locked="false" Priority="70" Name="Dark List Accent 6"/>
  <w:LsdException Locked="false" Priority="71" Name="Colorful Shading Accent 6"/>
  <w:LsdException Locked="false" Priority="72" Name="Colorful List Accent 6"/>
  <w:LsdException Locked="false" Priority="73" Name="Colorful Grid Accent 6"/>
  <w:LsdException Locked="false" Priority="19" QFormat="true"
   Name="Subtle Emphasis"/>
  <w:LsdException Locked="false" Priority="21" QFormat="true"
   Name="Intense Emphasis"/>
  <w:LsdException Locked="false" Priority="31" QFormat="true"
   Name="Subtle Reference"/>
  <w:LsdException Locked="false" Priority="32" QFormat="true"
   Name="Intense Reference"/>
  <w:LsdException Locked="false" Priority="33" QFormat="true" Name="Book Title"/>
  <w:LsdException Locked="false" Priority="37" SemiHidden="true"
   UnhideWhenUsed="true" Name="Bibliography"/>
  <w:LsdException Locked="false" Priority="39" SemiHidden="true"
   UnhideWhenUsed="true" QFormat="true" Name="TOC Heading"/>
  <w:LsdException Locked="false" Priority="41" Name="Plain Table 1"/>
  <w:LsdException Locked="false" Priority="42" Name="Plain Table 2"/>
  <w:LsdException Locked="false" Priority="43" Name="Plain Table 3"/>
  <w:LsdException Locked="false" Priority="44" Name="Plain Table 4"/>
  <w:LsdException Locked="false" Priority="45" Name="Plain Table 5"/>
  <w:LsdException Locked="false" Priority="40" Name="Grid Table Light"/>
  <w:LsdException Locked="false" Priority="46" Name="Grid Table 1 Light"/>
  <w:LsdException Locked="false" Priority="47" Name="Grid Table 2"/>
  <w:LsdException Locked="false" Priority="48" Name="Grid Table 3"/>
  <w:LsdException Locked="false" Priority="49" Name="Grid Table 4"/>
  <w:LsdException Locked="false" Priority="50" Name="Grid Table 5 Dark"/>
  <w:LsdException Locked="false" Priority="51" Name="Grid Table 6 Colorful"/>
  <w:LsdException Locked="false" Priority="52" Name="Grid Table 7 Colorful"/>
  <w:LsdException Locked="false" Priority="46"
   Name="Grid Table 1 Light Accent 1"/>
  <w:LsdException Locked="false" Priority="47" Name="Grid Table 2 Accent 1"/>
  <w:LsdException Locked="false" Priority="48" Name="Grid Table 3 Accent 1"/>
  <w:LsdException Locked="false" Priority="49" Name="Grid Table 4 Accent 1"/>
  <w:LsdException Locked="false" Priority="50" Name="Grid Table 5 Dark Accent 1"/>
  <w:LsdException Locked="false" Priority="51"
   Name="Grid Table 6 Colorful Accent 1"/>
  <w:LsdException Locked="false" Priority="52"
   Name="Grid Table 7 Colorful Accent 1"/>
  <w:LsdException Locked="false" Priority="46"
   Name="Grid Table 1 Light Accent 2"/>
  <w:LsdException Locked="false" Priority="47" Name="Grid Table 2 Accent 2"/>
  <w:LsdException Locked="false" Priority="48" Name="Grid Table 3 Accent 2"/>
  <w:LsdException Locked="false" Priority="49" Name="Grid Table 4 Accent 2"/>
  <w:LsdException Locked="false" Priority="50" Name="Grid Table 5 Dark Accent 2"/>
  <w:LsdException Locked="false" Priority="51"
   Name="Grid Table 6 Colorful Accent 2"/>
  <w:LsdException Locked="false" Priority="52"
   Name="Grid Table 7 Colorful Accent 2"/>
  <w:LsdException Locked="false" Priority="46"
   Name="Grid Table 1 Light Accent 3"/>
  <w:LsdException Locked="false" Priority="47" Name="Grid Table 2 Accent 3"/>
  <w:LsdException Locked="false" Priority="48" Name="Grid Table 3 Accent 3"/>
  <w:LsdException Locked="false" Priority="49" Name="Grid Table 4 Accent 3"/>
  <w:LsdException Locked="false" Priority="50" Name="Grid Table 5 Dark Accent 3"/>
  <w:LsdException Locked="false" Priority="51"
   Name="Grid Table 6 Colorful Accent 3"/>
  <w:LsdException Locked="false" Priority="52"
   Name="Grid Table 7 Colorful Accent 3"/>
  <w:LsdException Locked="false" Priority="46"
   Name="Grid Table 1 Light Accent 4"/>
  <w:LsdException Locked="false" Priority="47" Name="Grid Table 2 Accent 4"/>
  <w:LsdException Locked="false" Priority="48" Name="Grid Table 3 Accent 4"/>
  <w:LsdException Locked="false" Priority="49" Name="Grid Table 4 Accent 4"/>
  <w:LsdException Locked="false" Priority="50" Name="Grid Table 5 Dark Accent 4"/>
  <w:LsdException Locked="false" Priority="51"
   Name="Grid Table 6 Colorful Accent 4"/>
  <w:LsdException Locked="false" Priority="52"
   Name="Grid Table 7 Colorful Accent 4"/>
  <w:LsdException Locked="false" Priority="46"
   Name="Grid Table 1 Light Accent 5"/>
  <w:LsdException Locked="false" Priority="47" Name="Grid Table 2 Accent 5"/>
  <w:LsdException Locked="false" Priority="48" Name="Grid Table 3 Accent 5"/>
  <w:LsdException Locked="false" Priority="49" Name="Grid Table 4 Accent 5"/>
  <w:LsdException Locked="false" Priority="50" Name="Grid Table 5 Dark Accent 5"/>
  <w:LsdException Locked="false" Priority="51"
   Name="Grid Table 6 Colorful Accent 5"/>
  <w:LsdException Locked="false" Priority="52"
   Name="Grid Table 7 Colorful Accent 5"/>
  <w:LsdException Locked="false" Priority="46"
   Name="Grid Table 1 Light Accent 6"/>
  <w:LsdException Locked="false" Priority="47" Name="Grid Table 2 Accent 6"/>
  <w:LsdException Locked="false" Priority="48" Name="Grid Table 3 Accent 6"/>
  <w:LsdException Locked="false" Priority="49" Name="Grid Table 4 Accent 6"/>
  <w:LsdException Locked="false" Priority="50" Name="Grid Table 5 Dark Accent 6"/>
  <w:LsdException Locked="false" Priority="51"
   Name="Grid Table 6 Colorful Accent 6"/>
  <w:LsdException Locked="false" Priority="52"
   Name="Grid Table 7 Colorful Accent 6"/>
  <w:LsdException Locked="false" Priority="46" Name="List Table 1 Light"/>
  <w:LsdException Locked="false" Priority="47" Name="List Table 2"/>
  <w:LsdException Locked="false" Priority="48" Name="List Table 3"/>
  <w:LsdException Locked="false" Priority="49" Name="List Table 4"/>
  <w:LsdException Locked="false" Priority="50" Name="List Table 5 Dark"/>
  <w:LsdException Locked="false" Priority="51" Name="List Table 6 Colorful"/>
  <w:LsdException Locked="false" Priority="52" Name="List Table 7 Colorful"/>
  <w:LsdException Locked="false" Priority="46"
   Name="List Table 1 Light Accent 1"/>
  <w:LsdException Locked="false" Priority="47" Name="List Table 2 Accent 1"/>
  <w:LsdException Locked="false" Priority="48" Name="List Table 3 Accent 1"/>
  <w:LsdException Locked="false" Priority="49" Name="List Table 4 Accent 1"/>
  <w:LsdException Locked="false" Priority="50" Name="List Table 5 Dark Accent 1"/>
  <w:LsdException Locked="false" Priority="51"
   Name="List Table 6 Colorful Accent 1"/>
  <w:LsdException Locked="false" Priority="52"
   Name="List Table 7 Colorful Accent 1"/>
  <w:LsdException Locked="false" Priority="46"
   Name="List Table 1 Light Accent 2"/>
  <w:LsdException Locked="false" Priority="47" Name="List Table 2 Accent 2"/>
  <w:LsdException Locked="false" Priority="48" Name="List Table 3 Accent 2"/>
  <w:LsdException Locked="false" Priority="49" Name="List Table 4 Accent 2"/>
  <w:LsdException Locked="false" Priority="50" Name="List Table 5 Dark Accent 2"/>
  <w:LsdException Locked="false" Priority="51"
   Name="List Table 6 Colorful Accent 2"/>
  <w:LsdException Locked="false" Priority="52"
   Name="List Table 7 Colorful Accent 2"/>
  <w:LsdException Locked="false" Priority="46"
   Name="List Table 1 Light Accent 3"/>
  <w:LsdException Locked="false" Priority="47" Name="List Table 2 Accent 3"/>
  <w:LsdException Locked="false" Priority="48" Name="List Table 3 Accent 3"/>
  <w:LsdException Locked="false" Priority="49" Name="List Table 4 Accent 3"/>
  <w:LsdException Locked="false" Priority="50" Name="List Table 5 Dark Accent 3"/>
  <w:LsdException Locked="false" Priority="51"
   Name="List Table 6 Colorful Accent 3"/>
  <w:LsdException Locked="false" Priority="52"
   Name="List Table 7 Colorful Accent 3"/>
  <w:LsdException Locked="false" Priority="46"
   Name="List Table 1 Light Accent 4"/>
  <w:LsdException Locked="false" Priority="47" Name="List Table 2 Accent 4"/>
  <w:LsdException Locked="false" Priority="48" Name="List Table 3 Accent 4"/>
  <w:LsdException Locked="false" Priority="49" Name="List Table 4 Accent 4"/>
  <w:LsdException Locked="false" Priority="50" Name="List Table 5 Dark Accent 4"/>
  <w:LsdException Locked="false" Priority="51"
   Name="List Table 6 Colorful Accent 4"/>
  <w:LsdException Locked="false" Priority="52"
   Name="List Table 7 Colorful Accent 4"/>
  <w:LsdException Locked="false" Priority="46"
   Name="List Table 1 Light Accent 5"/>
  <w:LsdException Locked="false" Priority="47" Name="List Table 2 Accent 5"/>
  <w:LsdException Locked="false" Priority="48" Name="List Table 3 Accent 5"/>
  <w:LsdException Locked="false" Priority="49" Name="List Table 4 Accent 5"/>
  <w:LsdException Locked="false" Priority="50" Name="List Table 5 Dark Accent 5"/>
  <w:LsdException Locked="false" Priority="51"
   Name="List Table 6 Colorful Accent 5"/>
  <w:LsdException Locked="false" Priority="52"
   Name="List Table 7 Colorful Accent 5"/>
  <w:LsdException Locked="false" Priority="46"
   Name="List Table 1 Light Accent 6"/>
  <w:LsdException Locked="false" Priority="47" Name="List Table 2 Accent 6"/>
  <w:LsdException Locked="false" Priority="48" Name="List Table 3 Accent 6"/>
  <w:LsdException Locked="false" Priority="49" Name="List Table 4 Accent 6"/>
  <w:LsdException Locked="false" Priority="50" Name="List Table 5 Dark Accent 6"/>
  <w:LsdException Locked="false" Priority="51"
   Name="List Table 6 Colorful Accent 6"/>
  <w:LsdException Locked="false" Priority="52"
   Name="List Table 7 Colorful Accent 6"/>
  <w:LsdException Locked="false" SemiHidden="true" UnhideWhenUsed="true"
   Name="Mention"/>
  <w:LsdException Locked="false" SemiHidden="true" UnhideWhenUsed="true"
   Name="Smart Hyperlink"/>
  <w:LsdException Locked="false" SemiHidden="true" UnhideWhenUsed="true"
   Name="Hashtag"/>
  <w:LsdException Locked="false" SemiHidden="true" UnhideWhenUsed="true"
   Name="Unresolved Mention"/>
  <w:LsdException Locked="false" SemiHidden="true" UnhideWhenUsed="true"
   Name="Smart Link"/>
 </w:LatentStyles>
</xml><![endif]-->
<style scoped>
<!--
\n",
       "    .dataframe tbody tr th:only-of-type {\n",
       "        vertical-align: middle;\n",
       "    }\n",
       "\n",
       "    .dataframe tbody tr th {\n",
       "        vertical-align: top;\n",
       "    }\n",
       "\n",
       "    .dataframe thead th {\n",
       "        text-align: right;\n",
       "    }\n",
       "</style>\n",
       "<table border=\"1\" class=\"dataframe\">\n",
       "  <thead>\n",
       "    <tr style=\"text-align: right;\">\n",
       "      <th></th>\n",
       "      <th>sepal length (cm)</th>\n",
       "      <th>sepal width (cm)</th>\n",
       "      <th>petal length (cm)</th>\n",
       "      <th>petal width (cm)</th>\n",
       "    </tr>\n",
       "  </thead>\n",
       "  <tbody>\n",
       "    <tr>\n",
       "      <th>0</th>\n",
       "      <td>5.1</td>\n",
       "      <td>3.5</td>\n",
       "      <td>1.4</td>\n",
       "      <td>0.2</td>\n",
       "    </tr>\n",
       "    <tr>\n",
       "      <th>1</th>\n",
       "      <td>4.9</td>\n",
       "      <td>3.0</td>\n",
       "      <td>1.4</td>\n",
       "      <td>0.2</td>\n",
       "    </tr>\n",
       "    <tr>\n",
       "      <th>2</th>\n",
       "      <td>4.7</td>\n",
       "      <td>3.2</td>\n",
       "      <td>1.3</td>\n",
       "      <td>0.2</td>\n",
       "    </tr>\n",
       "    <tr>\n",
       "      <th>3</th>\n",
       "      <td>4.6</td>\n",
       "      <td>3.1</td>\n",
       "      <td>1.5</td>\n",
       "      <td>0.2</td>\n",
       "    </tr>\n",
       "    <tr>\n",
       "      <th>4</th>\n",
       "      <td>5.0</td>\n",
       "      <td>3.6</td>\n",
       "      <td>1.4</td>\n",
       "      <td>0.2</td>\n",
       "    </tr>\n",
       "  </tbody>\n",
       "</table>\n",
       "</div>"
      ],
      "text/plain": [
       "   sepal length (cm)  sepal width (cm)  petal length (cm)  petal width (cm)\n",
       "0                5.1               3.5                1.4               0.2\n",
       "1                4.9               3.0                1.4               0.2\n",
       "2                4.7               3.2                1.3               0.2\n",
       "3                4.6               3.1                1.5               0.2\n",
       "4                5.0               3.6                1.4               0.2"
      ]
     },
     "execution_count": 13,
     "metadata": {}
],
   "source": [
    "# Load the iris dataset\n",
    "iris = datasets.load_iris()\n",
    "iris_df = pd.DataFrame(iris.data, columns = iris.feature_names)\n",
    "iris_df.head()   # First 5 rows will be displayed"
   ]
  },
  {
   "cell_type": "code",
   "execution_count": 14,
   "id": "3a455da3",
   "metadata": {},
   "outputs": [
    {
     "data": {
      "text/plain": [
       "(150, 4)"
      ]
     },
     "execution_count": 14,
     "metadata": {},
     "output_type": "execute_result"
    }
   ],
   "source": [
    "iris_df.shape"
   ]
  }
: [
    "# Finding the optimum number of clusters"
   ]
  },
  {
   "cell_type": "markdown",
   "id": "17956e68",
   "metadata": {},
   "source": [
    "### Using K-means classification"
   ]
  }
: 15,
   "id": "be4c8664",
   "metadata": {}
: [],
   "source": [
    "# Finding the optimum number of clusters for k-means classification\n",
    "x = iris_df.iloc[:, [0,1,2,3]].values\n",
    "\n",
    "from sklearn.cluster import KMeans\n",
    "wcss = []    # wcss = within cluster sum of squares\n",
    "\n",
    "for i in range(1,11):\n",
    "    kmeans = KMeans(n_clusters = i, init='k-means++', max_iter=300, n_init=10,random_state=0)\n",
    "    kmeans.fit(x)\n",
    "    wcss.append(kmeans.inertia_)"
   ]
  },
  {
   "cell_type": "markdown",
   "id": "95648161",
   "metadata": {},
   "source": [
    "### Plot"
   ]
  }
: 16,
   "id": "770a4414",
   "metadata": {}
: [
    {
     "data": {
      "image/png": "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\n",
      "text/plain": [
       "<Figure size 432x288 with 1 Axes>"
      ]
     },
     "metadata": {},
     "output_type": "display_data"
    }
],
   "source": [
    "# Plotting the results onto a line graph, \n",
    "# `allowing us to observe 'The elbow'\n",
    "sb.set_style(\"whitegrid\")\n",
    "plt.plot(range(1,11), wcss,\"r\")\n",
    "plt.title(\"The Elbow Method\",{'size':20})\n",
    "plt.xlabel(\"Number of clusters\",{'size':15})\n",
    "plt.ylabel(\"WCSS\",{'size':15})\n",
    "plt.show()"
   ]
  },
  {
   "cell_type": "markdown",
   "id": "adef9191",
   "metadata": {},
   "source": [
    "You can clearly see why it is called 'The elbow method' from the above graph, the optimum clusters is where the elbow occurs. \n",
    "This is when the within cluster sum of squares (WCSS) doesn't decrease significantly with every iteration."
   ]
  }
: [
    "### From this we choose the number of clusters as ** '3**'."
   ]
  },
  {
   "cell_type": "code",
   "execution_count": 17,
   "id": "f38a0c7b",
   "metadata": {},
   "outputs": [],
   "source": [
    "# Applying kmeans to the dataset / Creating the kmeans classifier\n",
    "kmeans = KMeans(n_clusters=3,init='k-means++',max_iter=300,n_init=10,random_state=0)\n",
    "y_kmeans = kmeans.fit_predict(x)"
   ]
  }
: [
    "### Visualising the Data"
   ]
  },
  {
   "cell_type": "code",
   "execution_count": 18,
   "id": "4b98a318",
   "metadata": {},
   "outputs": [
    {
     "data": {
      "text/plain": [
       "<matplotlib.legend.Legend at 0x2634af919d0>"
      ]
     },
     "execution_count": 18,
     "metadata": {},
     "output_type": "execute_result"
    },
    {
     "data": {
      "image/png": "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\n",
      "text/plain": [
       "<Figure size 432x288 with 1 Axes>"
      ]
     },
     "metadata": {},
     "output_type": "display_data"
    }
   ],
   "source": [
    "# Visualising the clusters - On the first two columns\n",
    "sb.set_style(\"darkgrid\")\n",
    "plt.scatter(x[y_kmeans == 0,0], x[y_kmeans == 0,1],s = 50,c = \"red\",label = 'Iris-setosa')\n",
    "plt.scatter(x[y_kmeans == 1,0], x[y_kmeans == 1,1],s = 50,c = \"blue\",label = 'Iris-versicolour')\n",
    "plt.scatter(x[y_kmeans == 2,0], x[y_kmeans == 2,1],s = 50,c = \"green\",label = 'Iris-virginica')\n",
    "\n",
    "# Plotting the centroids of the clusters\n",
    "plt.scatter(kmeans.cluster_centers_[:,0],kmeans.cluster_centers_[:,1],s=100,c=\"orange\",label=\"Centroids\")\n",
    "\n",
    "plt.legend(loc = \"upper right\",edgecolor=\"red\")"
   ]
  }
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\n",
      "text/plain": [
       "<Figure size 1080x1080 with 1 Axes>"
      ]
     },
     "metadata": {},
     "output_type": "display_data"
    }
   ],
   "source": [
    "# 3d scatterplot using matplotlib\n",
    "fig = plt.figure(figsize = (15,15))\n",
    "ax = fig.add_subplot(111, projection='3d')\n",
    "plt.scatter(x[y_kmeans == 0, 0], x[y_kmeans == 0, 1], s = 50, c = 'red', label = 'Iris-setosa')\n",
    "plt.scatter(x[y_kmeans == 1, 0], x[y_kmeans == 1, 1], s = 50, c = 'blue', label = 'Iris-versicolour')\n",
    "plt.scatter(x[y_kmeans == 2, 0], x[y_kmeans == 2, 1], s = 50, c = 'green', label = 'Iris-virginica')\n",
    "\n",
    "#Plotting the centroids of the clusters\n",
    "plt.scatter(kmeans.cluster_centers_[:, 0], kmeans.cluster_centers_[:,1], s = 50, c = 'cyan', label = 'Centroids')\n",
    "plt.show()"
   ]
  }
: [
    "### Labeling the Predictions"
   ]
  },
  {
   "cell_type": "code",
   "execution_count": 20,
   "id": "f405fcfd",
   "metadata": {},
   "outputs": [],
   "source": [
    "#considering \n",
    "#0 Corresponds to 'Iris-setosa'\n",
    "#1 to 'Iris-versicolour'\n",
    "#2 to 'Iris-virginica'\n",
    "y_kmeans = np.where(y_kmeans==0, 'Iris-setosa', y_kmeans)\n",
    "y_kmeans = np.where(y_kmeans=='1', 'Iris-versicolour', y_kmeans)\n",
    "y_kmeans = np.where(y_kmeans=='2', 'Iris-virginica', y_kmeans)"
   ]
  }
: [
    "### Adding the Prediction to the Dataset"
   ]
  },
  {
   "cell_type": "code",
   "execution_count": 21,
   "id": "8c39cbad",
   "metadata": {},
   "outputs": [
    {
     "name": "stdout",
     "output_type": "stream",
     "text": [
      "   sepal length (cm)  sepal width (cm)  petal length (cm)  petal width (cm)  \\\n",
      "0                5.1               3.5                1.4               0.2   \n",
      "1                4.9               3.0                1.4               0.2   \n",
      "2                4.7               3.2                1.3               0.2   \n",
      "3                4.6               3.1                1.5               0.2   \n",
      "4                5.0               3.6                1.4               0.2   \n",
      "\n",
      "            Cluster  \n",
      "0  Iris-versicolour  \n",
      "1  Iris-versicolour  \n",
      "2  Iris-versicolour  \n",
      "3  Iris-versicolour  \n",
      "4  Iris-versicolour  \n"
     ]
    }
   ],
   "source": [
    "data_with_clusters = iris_df.copy()\n",
    "data_with_clusters[\"Cluster\"] = y_kmeans\n",
    "print(data_with_clusters.head(5))"
   ]
  }
: [
    "### Barplot- Cluster Distribution"
   ]
  },
  {
   "cell_type": "code",
   "execution_count": 23,
   "id": "9d755871",
   "metadata": {},
   "outputs": [
    {
     "data": {
      "image/png": "iVBORw0KGgoAAAANSUhEUgAAAYEAAAEJCAYAAAByupuRAAAAOXRFWHRTb2Z0d2FyZQBNYXRwbG90bGliIHZlcnNpb24zLjMuNCwgaHR0cHM6Ly9tYXRwbG90bGliLm9yZy8QVMy6AAAACXBIWXMAAAsTAAALEwEAmpwYAAAfOElEQVR4nO3deVxU9f7H8dfIKgjhwlUv5oJbVhouodUV0yDMpYeWGygaopm5hJUCLghZkWm5UKai1k20cov0pt2KvKGpXDXL5WqW+5Ir+pNBBYT5/eFtrmTioMwQnvfz8fDxcM6Z+X4/zOcB7znnzDnHZLFYLIiIiCFVKOsCRESk7CgEREQMTCEgImJgCgEREQNTCIiIGJhzWRdQEoWFhRQU6MtMIiIl4eLidMN15SoECgosnD9/sazLEBEpV3x9vW64TruDREQMTCEgImJgCgEREQNTCIiIGJhCQETEwBQCIiIGphAQETEwhYCIiIEpBEREDKxcnTFcUp6ebnh4uJZ1GXe0ixfzyMnJLesyROQW3dEh4OHhSpUq48q6jDtaVtZrCgGRcky7g0REDEwhICJiYA7dHTRnzhy++eYb8vPzCQsLIzAwkNjYWEwmEw0bNmTixIlUqKBcEhFxFIf9xc3MzGTbtm189NFHLFy4kBMnTpCUlER0dDSLFy/GYrGQnp7uqHJERAQHbgmsX7+eRo0aMWzYMMxmM2PGjGHJkiUEBgYCEBQUxHfffUdISMgNx3ByMuHj4+GoksVG6olI+eWwEDh37hzHjx9n9uzZHD16lKFDh2KxWDCZTAB4enqSnZ1d7BglvalMcTdSkNKjG/2I/LkV97fQYSHg4+ODv78/rq6u+Pv74+bmxokTJ6zrc3Jy8Pb2dlQ5IiKCA48JtGzZknXr1mGxWDh58iSXLl3ioYceIjMzE4CMjAxatWrlqHJERAQHbgm0b9+ezZs306NHDywWC/Hx8dSqVYsJEybw9ttv4+/vT2hoqKPKERERwGSxWCxlXYSt8vMLSnxMQGcM21dW1mucPl38sRwRKVu60byIiPwhhYCIiIEpBEREDEwhICJiYAoBEREDUwiIiBiYQkBExMAUAiIiBqYQEBExMIWAiIiBKQRERAxMISAiYmAKARERA1MIiIgYmEJARMTAFAIiIgamEBARMTCFgIiIgSkEREQMTCEgImJgCgEREQNTCIiIGJhCQETEwBQCIiIGphAQETEwZ0dO1q1bN7y8vACoVasWzz33HLGxsZhMJho2bMjEiROpUEG5JCLiKA4LgdzcXAAWLlxoXfbcc88RHR1N69atiY+PJz09nZCQEEeVJCJieA772L1nzx4uXbrEwIED6d+/Pz/88AO7du0iMDAQgKCgIDZs2OCockREBAduCbi7uxMVFUXPnj05ePAggwcPxmKxYDKZAPD09CQ7O7vYMZycTPj4eDiiXCkBu/SkoBAXd5fSH1es8i/ng5N2vxqdw0KgXr161KlTB5PJRL169fDx8WHXrl3W9Tk5OXh7exc7RkGBhfPnL9o8p6+v1y3XK7YrSU9s5evrxajKo0p9XPmfaeemcfp08R+85M5Q3N9Ch30MWLZsGW+88QYAJ0+exGw288gjj5CZmQlARkYGrVq1clQ5IiKCA7cEevToQVxcHGFhYZhMJl5//XUqV67MhAkTePvtt/H39yc0NNRR5YiICA4MAVdXV956663rlqempjqqBBER+R0dFRIRMTCFgIiIgSkEREQMTCEgImJgCgEREQNTCIiIGJhCQETEwBQCIiIGphAQETEwhYCIiIEpBEREDEwhICJiYAoBEREDUwiIiBiYQkBExMAUAiIiBqYQEBExMIWAiIiBKQRERAxMISAiYmAKARERA1MIiIgYmEJARMTAFAIiIgamEBARMTCFgIiIgTk0BM6ePUu7du3Yt28fhw4dIiwsjPDwcCZOnEhhYaEjSxERERwYAvn5+cTHx+Pu7g5AUlIS0dHRLF68GIvFQnp6uqNKERGR/3J21ESTJ0+mT58+zJ07F4Bdu3YRGBgIQFBQEN999x0hISHFjuHkZMLHx8PutUrJqCfll3onDgmBFStWUKVKFdq2bWsNAYvFgslkAsDT05Ps7OybjlNQYOH8+Ys2z+vr63VrBUuJlKQntlLvHMMevZM/n+J+nxwSAsuXL8dkMrFx40Z2795NTEwMWVlZ1vU5OTl4e3s7ohQREbmGQ0Jg0aJF1v9HRESQkJDAlClTyMzMpHXr1mRkZNCmTRtHlCIiItew+cBwbGwsBw4cKLWJY2JiSE5Opnfv3uTn5xMaGlpqY4uIiG1s3hL4+uuvGT58+G1PuHDhQuv/U1NTb3s8ERG5dTZvCXTt2pWZM2dy6NAhrly5Ys+aRETEQWzeEti4cSMHDx5k1apVmEwmKlQomh87d+4s9eJEpHyqUskDp4pOZV3GHa3gUgFZ5tv/dpfNITBkyJDbnkxEjMGpohMH6x0s6zLuaHUP1AXz7Y9jcwh079799mcTEZE/lRJdNmLz5s0MGjSIDh06cOzYMZKTk0lLS7NTaSIiYm82h8C3337LoEGDqFmzJmfOnKGwsBCTycS4ceNYvny5PWsUERE7sTkE3nnnHcaMGcOkSZNwcrp6wGf48OHExMSwYMECuxUoIiL2Y3MI/PLLLwQFBV23vH379hw5cqRUixIREcewOQQqV678h3/sd+7cSbVq1Uq1KBERcQybQ6BXr14kJiby7bffAnD48GGWLVvGpEmT9M0hEZFyqkTnCWRnZzNixAjy8vKIiorC2dmZyMhInn/+eXvWKCIidmJzCJhMJkaPHs2wYcPYt28fLi4u1K1bF3d3d86ePUvVqlXtWaeIiNiBzbuDmjRpQlZWFh4eHjRt2pR77rkHd3d3jh8/TnBwsD1rFBEROyl2S2D16tWsW7cOuHonsFdffRU3N7cizzl69Cienp72q1BEROym2BBo0aIFy5Ytw2KxAHDq1ClcXFys600mEz4+PkyZMsW+VYqIiF0UGwI1atSwnggWFxfHuHHjqFSpkkMKExER+7P5mEBSUhLOzs7k5eUBsG/fPubPn8+WLVvsVpyIiNiXzSGwadMm/va3v7F161ZOnTpFv379mDt3LgMGDGDlypX2rFFEROzE5hCYNm0aXbp0ISAggLS0NNzd3Vm3bh0JCQmkpKTYs0YREbETm0Ng9+7dDBo0iIoVK7Ju3ToeffRRXF1deeSRRzh06JA9axQRETuxOQS8vLzIycnBbDazbds2HnnkEeDqV0R9fHzsVZ+IiNiRzWcMBwUFER8fj6enJ56enrRt25YNGzaQmJhI+/bt7VmjiIjYic1bAvHx8TRv3hx3d3dmzZqFm5sb27Zto2XLlsTExNizRhERsRObtwQqVqxIbGxskWXDhg0r9YJERMRxbA6BCRMmFLt+0qRJt12MiIg4ls0hcPDgwSKPCwoKOHz4MGazmc6dO9/09QUFBYwfP54DBw7g5OREUlISFouF2NhYTCYTDRs2ZOLEiVSoYPMeKhERuU02h8DChQuvW2axWEhMTMTLy+umr1+7di0AH3/8MZmZmdYQiI6OpnXr1sTHx5Oenk5ISEgJyhcRkdtxWx+7TSYTkZGRLFu27KbPDQ4Otu4yOn78ONWqVWPXrl0EBgYCV799tGHDhtspR0RESsjmLYEbOXLkiPV6QjedzNmZmJgYvvrqK2bOnMnatWsxmUwAeHp6kp2dXezrnZxM+Ph43G7JUsrUk/JLvSvfSqN/t3Vg2Gw2s27dOh577DGbJ5w8eTIvv/wyvXr1Ijc317o8JycHb2/vYl9bUGDh/PmLNs/l63vz3VRy+0rSE1upd45hj96B+ucotvavuH7c8oFhAFdXVwYMGEBkZORNX5+WlsbJkycZMmQIFStWxGQycf/995OZmUnr1q3JyMigTZs2tpYjIiKl4LYODJfE448/TlxcHH379uXKlSuMHTuW+vXrM2HCBN5++238/f0JDQ29rTlERKRkig2B77//3uaBWrRoUex6Dw8PZsyYcd3y1NRUm+cQEZHSVWwIhIeHYzKZrLeXvBGTycTu3btLtTAREbG/YkMgPT0duHo+wG/f4vnN6dOnqVat2nXLRUSk/Cj2PAE/Pz+OHTvG0KFDycnJwc/Pz/pvzpw5DBo0iFOnTuHn5+eoekVEpBQVGwI7d+5k8ODB1KxZE09PzyLrIiMj8fPzIzIykp9++smuRYqIiH0UGwLvvvsunTp1Yu7cudd92g8MDGT+/Pm0bduWd955x65FioiIfRQbAtu3b2fAgAHFDjBw4EB++OGH0qxJREQcpNgQuHjx4nW7gX6vWrVqmM3mUi1KREQco9gQqFu3Ltu3by92gO3bt1OzZs1SLUpERByj2BDo0qULM2bM4MyZM3+4/vTp00yfPl1n+oqIlFPFnifQv39/vvjiCzp37kyPHj144IEH8PLy4v/+7//48ccfWb58ObVq1WLw4MGOqldEREpRsSHg4uLCwoULmTZtGkuXLmX+/PnWdVWrVqVXr148//zzeHjocrQiIuXRTS8g5+7uTlxcHC+//DJHjhzhwoULVK5cmdq1a+tsYRGRcs7mq4i6uLjg7+9vz1pERMTBdFd3EREDUwiIiBiYQkBExMAUAiIiBqYQEBExMIWAiIiBKQRERAxMISAiYmAKARERA1MIiIgYmEJARMTAFAIiIgZm8wXkbkd+fj5jx47l2LFj5OXlMXToUBo0aEBsbCwmk4mGDRsyceJEKlRQJomIOJJDQmDlypX4+PgwZcoUzp07R/fu3bnnnnuIjo6mdevWxMfHk56eTkhIiCPKERGR/3LIR++OHTvywgsvWB87OTmxa9cuAgMDAQgKCmLDhg2OKEVERK7hkC0BT09PAMxmMyNHjiQ6OprJkydbb0rj6elJdnb2TcdxcjLh46O7mP3ZqCfll3pXvpVG/xwSAgC//vorw4YNIzw8nK5duzJlyhTrupycHLy9vW86RkGBhfPnL9o8p6+v1y3VKiVTkp7YSr1zDHv0DtQ/R7G1f8X1wyG7g86cOcPAgQMZPXo0PXr0AODee+8lMzMTgIyMDFq1auWIUkRE5BoOCYHZs2dz4cIFZs2aRUREBBEREURHR5OcnEzv3r3Jz88nNDTUEaWIiMg1HLI7aPz48YwfP/665ampqY6YXkREbkBfzBcRMTCFgIiIgSkEREQMTCEgImJgCgEREQNTCIiIGJhCQETEwBQCIiIGphAQETEwhYCIiIEpBEREDEwhICJiYAoBEREDUwiIiBiYQkBExMAUAiIiBqYQEBExMIWAiIiBKQRERAxMISAiYmAKARERA1MIiIgYmEJARMTAFAIiIgamEBARMTCFgIiIgTk0BH788UciIiIAOHToEGFhYYSHhzNx4kQKCwsdWYqIiODAEEhJSWH8+PHk5uYCkJSURHR0NIsXL8ZisZCenu6oUkRE5L+cHTVR7dq1SU5OZsyYMQDs2rWLwMBAAIKCgvjuu+8ICQkpdgwnJxM+Ph52r1VKRj0pv9S78q00+uewEAgNDeXo0aPWxxaLBZPJBICnpyfZ2dk3HaOgwML58xdtntPX16vkhUqJlaQntlLvHMMevQP1z1Fs7V9x/SizA8MVKvxv6pycHLy9vcuqFBERwyqzELj33nvJzMwEICMjg1atWpVVKSIihlVmIRATE0NycjK9e/cmPz+f0NDQsipFRMSwHHZMAKBWrVosWbIEgHr16pGamurI6UVE5Hd0spiIiIEpBEREDEwhICJiYAoBEREDUwiIiBiYQkBExMAUAiIiBqYQEBExMIWAiIiBKQRERAxMISAiYmAKARERA1MIiIgYmEJARMTAFAIiIgamEBARMTCFgIiIgSkEREQMTCEgImJgCgEREQNTCIiIGJhCQETEwBQCIiIGphAQETEwhYCIiIE5l+XkhYWFJCQk8NNPP+Hq6sqrr75KnTp1yrIkERFDKdMtga+//pq8vDw++eQTXnrpJd54442yLEdExHDKNAS2bt1K27ZtAQgICGDnzp1lWY6IiOGU6e4gs9lMpUqVrI+dnJy4cuUKzs5/XJaLixO+vl4lmiMr67XbqlFurqQ9sdW0c9PsMq78j716B1D3QF27jS1XlUb/ynRLoFKlSuTk5FgfFxYW3jAARESk9JVpCLRo0YKMjAwAfvjhBxo1alSW5YiIGI7JYrFYymry374dtHfvXiwWC6+//jr169cvq3JERAynTENARETKlk4WExExMIWAiIiBKQRERAxMIXCNo0eP0qtXryLLMjIy+OSTTxxey9y5c9m+fXuJXhMREcG+ffvsVFH5ZY++lqQ/N5trxYoVpKen33ItRuLI39GvvvqKkydPlvq4fzb6Uv5NBAUFlcm8zz77bJnMaxS329eS9Odmcz311FO3VYvR2et39MMPPyQhIYHq1avbZfw/C4XAH4iIiKBy5cpcuHCBzp07c+jQIUaMGMELL7yA2Wzm8uXLjB49mtatW1tfk5+fT6dOnfjss8/w8PBg3rx5ODs7ExoayoQJE8jNzcXNzY1JkyZRUFDA0KFD8fHxISgoCA8PD9LS0qhQoQItWrQgJiaG2NhYOnXqRGBgIHFxcRw/fpz8/HwmTJjA/fffz9ixYzly5AgFBQVERkbSqVMnay0XLlxg9OjRmM1mCgoKeOGFF3jooYfo0KEDa9aswc3NjalTp+Lv74+fnx9Tp07FxcWFXr160a1btzJ4xx2jNPu6Z88eOnXqxJkzZ1i+fDmFhYWMHDmSo0ePsmjRIu666y5cXFysfdm/fz99+vThpZdeokaNGhw5coSmTZuSmJhIcnIy1apVo3fv3rz66qts376d/Px8RowYQfv27YmPj+fEiROcO3eOoKAgoqOjy+gd/PO4lV4CfPnll6SkpODs7Iyfnx9vvvkmOTk5jBs3jnPnzgEwfvx4fv31V3bv3k1MTAyLFy8mNTWVzz//HGdnZ1q1asXo0aPZunUrkydPxtnZGW9vb6ZOnQrAuHHjyM7O5ty5c/Ts2ZPw8HCHvz8loRC4ga5duxISEsKKFSsAOHz4MGfOnOGDDz7g7NmzHDx4sMjzXVxcePzxx/nyyy/p1q0bq1evZv78+SQmJhIREUG7du3YuHEjU6dOZdSoUZw+fZrly5fj6urK008/zYQJEwgICGDx4sVcuXLFOu7HH3+Mn58f06ZNY+/evWzYsIFdu3ZRuXJlpkyZgtls5qmnnqJNmzbW17z33ns8/PDDDBgwgJMnTxIWFsbXX399w581NzeXpUuXlu4b+CdVWn3ds2eP9Tne3t689957ZGVlkZCQQFpaGq6urvTv3/+6+Q8ePMj8+fOpWLEiwcHBnD592rouPT2dc+fOsWzZMk6fPk1qair33HMPAQEB9OzZk9zcXIXANUraS4B//OMfPPPMM3Tu3Jm0tDTMZjNz5syhTZs2hIeHc/DgQeLi4vjoo49o0qQJCQkJHDhwgDVr1vDxxx/j7OzMiBEjWLt2Lf/+978JCQkhKiqKb775hgsXLnDu3Dk6d+7M448/zsmTJ4mIiFAIlFf16tUr8rhhw4b07duXF198kStXrhAREcGWLVuYMWMGAFFRUfTs2ZOEhAT8/f2pW7culStXZu/evcyZM4d58+ZhsVhwcXEBoFatWri6ugKQlJTEggULmDp1KgEBAVx76sb+/futm7uNGjWiUaNGJCYm8vDDDwNXL71Rv359jhw5Yn3Nvn376Nq1KwDVq1enUqVKZGVlFfl5rp3j9z/rnay0+vpHYx4+fJj69etTsWJFAJo3b37d/LVr17ZeL8vX15fc3FzrugMHDhAQEGBdN2rUKMxmMzt27GDTpk1UqlSJvLy80nkj7gC30su4uDjmzJnDRx99hL+/P8HBwezdu5dNmzaxZs0a4OqW9LX279/PAw88YP3dbdWqFT///DPPPfccs2fPZsCAAVSvXp1mzZpRrVo1/v73v/Pll19SqVKlIh/o/qwUAjdgMpmKPP7pp5/Iyclh7ty5nDp1ij59+vDNN9+wcOHCIs+zWCzMmzePsLAwAPz9/Rk4cCAtWrRg3759bN68GYAKFf53TH7JkiUkJibi5uZGVFQU27Zts66rX78+O3bsIDg4mCNHjjB9+nSaN2/Oli1bCAkJwWw2s3fvXmrVqlXkNVu2bOHee+/l5MmTXLhwAR8fH1xdXTl16hS1atViz5491rOzr63lTldafb3Wb+9f7dq12b9/P5cvX8bV1ZXt27fj7+9f7PzX8vf354svvgAgOzub6Oho2rVrh5eXF6+88gqHDh1iyZIlWCyWYscxilvp5fTp0xkxYgRVq1YlPj6er776Cn9/f5588km6du3K2bNnrVvFJpMJi8WCv78/77//PleuXMHJyYnNmzfTrVs3Vq1aRffu3YmJiWHOnDksWbKE7OxsAgICCA8PZ9OmTXz77bcOfU9uhULARnXr1uXdd98lLS0NFxcXRo4c+YfP69GjBzNmzLDunomJiSEhIYHc3FwuX77MuHHjrntN48aN6dGjB5UrV6Z69eo88MAD1k3cPn36MHbsWPr160dBQQFjx46lcePGTJgwgbCwMHJzcxk+fDhVq1a1jjdkyBDGjh3LP//5Ty5fvswrr7yCs7MzgwYN4tlnn8XPzw9vb287vEvlz6329Y9UqVKFwYMHEx4ejo+PD7m5uTg7O9v8afCxxx5j48aNhIWFUVBQwLBhw/jrX//Kiy++yNatW6lYsSJ16tTh1KlTd/zBylthSy+bNWtGZGQkPj4+eHp68uijj/Loo48ybtw4lixZgtlsZvjw4cDVLbkxY8awYMECnnjiCcLCwigsLKRly5YEBwezfft2YmNj8fDwwMXFhVdeeYVjx46RkJDAqlWr8PHxwcnJiby8POtW/5+RLhshUkquXLlCSkoKQ4cOBaBv375ER0fz4IMPlnFlIjemLQGRUuLs7MylS5fo3r07Li4uNGvWjFatWpV1WSLF0paAiIiBGeeIoIiIXEchICJiYAoBEREDUwhIudShQwcaN25s/Xf//ffz2GOPMXnyZMxmMwCZmZk0btyYEydO3HQ8i8VCWloaZ8+eveFzfj9ehw4dmDVr1m39HNu2bWPr1q3Wx40bN+azzz67rTFFSkIhIOXW4MGDWb9+PevXr2f16tW89NJLfP755wwaNIi8vDyaN2/O+vXr+ctf/nLTsb7//ntiYmK4dOnSDZ9TkvFs1a9fPw4dOmR9vH79ejp27Fhq44vcjL4iKuWWh4cHvr6+1se1a9emTp06PP300yxfvpywsLAi64tjy5fkXF1dbR7PVr+ft7THF7kZbQnIHeW+++6jZcuWrF69+rrdN//617/o1q0bzZo1429/+xuTJk0iNzeXo0eP0rdvX+DqWbvJyclkZmbStGlTZs2aRWBgIBEREX+4e+nkyZNERkbStGlTQkNDWbt2rXVdcnIyISEhReq7dlmHDh0oKCggLi6OiIgI4PrdQcuWLaNLly40a9aMkJAQUlNTretWrFhBx44d+eSTT+jQoQPNmzenf//+uqeElIhCQO44jRo1Yu/evUWWZWVlMXz4cPr06cOaNWuYMmUKq1evJiUlhZo1a1r37S9dupSBAwcCkJeXR2ZmJkuXLmX8+PF/ONeSJUto27YtK1eupFu3bgwdOtTmm80sW7YMJycnxo4dS3Jy8nXr33//fSZNmsSAAQNYuXIlUVFRvPnmmyxYsMD6nKNHj7Jq1SpmzpzJggULOH78OJMmTbJpfhHQ7iC5A3l7e1sPDv/mxIkT5OfnU6NGDfz8/PDz82PevHl4eHjg5OTEXXfdBVy9/o+np6f1dYMGDaJOnTrA1QPDv9exY0draAwdOpQNGzbw4YcfWq8tX5wqVaoA4OXlhY+PT5F1v12wbsCAAfTs2RO4em2cI0eOkJKSQmRkJHD1fgeJiYnWiwH269eP6dOn33Rukd9oS0DuODk5OXh5eRVZ1qRJE5544gmGDBlCu3btGDt2LKdOnbrpZbTvvvvuYtf//nLRTZs25eeff761wq+RlZXFmTNnaNGiRZHlDz74IFlZWdZvMZlMJmtIwdUAzM/Pv+35xTgUAnLH2bVrF/fdd1+RZSaTienTp/P555/Tv39/fv31V4YNG0ZCQkKxY7m7uxe73snJqchji8VS7BUjbb2iqJub2x8uLygoAK5epwiuXsb6t/9fW4OIrRQCckfZs2cP27Zto0uXLkWW79ixg6SkJBo0aEBUVBTvv/8+o0aN4tNPPwWKv85/cf7zn/8Uebxt2zYaNGgAXL0rWU5OTpH1134dtLh5K1WqRI0aNYqcQwCwdetWfH19rbuvRG6XjglIuXXx4kXr7RkvX77M1q1beeutt3jwwQd58skn2bJli/W5Xl5eLFq0CDc3N3r06EFOTg5r166lWbNmANbjALt37y7RH9jPPvuMJk2a8PDDD/Ppp5+yY8cOXnvtNQACAgKYNm0aH3zwAcHBwWRkZJCRkVHk3g+enp788ssvnD17tshyuHqMISkpidq1axMYGEhmZiapqamMHDlSN5WRUqMQkHIrJSWFlJQU4OofUz8/P8LDw3nmmWeu203z2w1HZs6cyYcffoiLiwtt27YlLi4OgAYNGhAaGsqoUaMICwsjODjYphqioqJYvXo1b7zxBvXq1WP27NnWg7Rt2rRhxIgRpKSkMG3aNIKCghg5ciSLFi2yvn7w4MHMmjWLDRs2kJaWVmTsPn36cPnyZebMmUNiYiJ33303sbGxf/p71kr5oktJi4gYmI4JiIgYmEJARMTAFAIiIgamEBARMTCFgIiIgSkEREQMTCEgImJgCgEREQP7fzwA+J+OogibAAAAAElFTkSuQmCC\n",
      "text/plain": [
       "<Figure size 432x288 with 1 Axes>"
      ]
     },
     "metadata": {},
     "output_type": "display_data"
    }
   ],
   "source": [
    "import seaborn as sns\n",
    "# Bar plot\n",
    "sns.set_style('darkgrid')\n",
    "sns.barplot(x = data_with_clusters[\"Cluster\"] .unique(),\n",
    "            y = data_with_clusters[\"Cluster\"] .value_counts(),\n",
    "            palette=sns.color_palette([\"#00008B\", \"#800080\", \"#FF00FF\"]));\n",
    "plt.xlabel(\"Distribution\" , fontsize = 15)\n",
    "plt.ylabel(\"Cluster\", fontsize = 15)\n",
    "plt.show()"
   ]
  }
: [
    "### Bar Plot Comments and conclusion"
   ]
  },
  {
   "cell_type": "markdown",
   "id": "fbfa7bf0",
   "metadata": {},
   "source": [
    "There are around 62 iris-versicolour , 50 Iris-virginica and roughly 38 Iris-setosa samples in the dataset as predicted."
   ]
  }
: [
    "### Violin 
      ]
     },
     "metadata": {},
     "output_type": "display_data"
    },
    {
     "data": {
      "image/png": "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\n",
      "text/plain": [
       "<Figure size 432x288 with 1 Axes>"
      ]
     },
     "metadata": {},
     "output_type": "display_data"
    }
   ],
   "source": [
    "sns.violinplot(x=\"Cluster\",y=\"petal width (cm)\",data=data_with_clusters)\n",
    "plt.show()\n",
    "sns.violinplot(x=\"Cluster\",y=\"sepal width (cm)\",data=data_with_clusters)\n",
    "plt.show()\n",
    "sns.violinplot(x=\"Cluster\",y=\"petal length (cm)\",data=data_with_clusters)\n",
    "plt.show()\n",
    "sns.violinplot(x=\"Cluster\",y=\"sepal length (cm)\",data=data_with_clusters)\n",
    "plt.show()"
   ]
  }
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\n",
      "text/plain": [
       "<Figure size 821.5x720 with 20 Axes>"
      ]
     },
     "metadata": {},
     "output_type": "display_data"
    }
   ],
   "source": [
    "### hue = species colours plot as per species\n",
    "### It will give 3 colours in the plot\n",
    "\n",
    "sns.set_style('whitegrid')   ### Sets grid style\n",
    "sns.pairplot(data_with_clusters,hue = 'Cluster',palette=\"brg\");"
   ]
  }
: [
    "### Conclusion"
   ]
  },
  {
   "cell_type": "markdown",
   "id": "f6981b15",
   "metadata": {},
   "source": [
    "1.petal-length and petal-width seem to be positively correlated(seem to be having a linear relationship).\n",
    "\n",
    "2.Iris-Setosa seems to have smaller petal length and petal width as compared to others.\n",
    "\n",
    "3.Looking at the overall scenario, it seems to be the case that Iris-Setosa has smaller dimensions than other flowers."
   ]
  }
: null,
   "id": "217b9e2f",
   "metadata": {}
: [],
   "source": []
  }
 ],
 "metadata": {
  "kernelspec": {
   "display_name": "Python 3",
   "language": "python",
   "name": "python3"
  },
  "language_info": {
   "codemirror_mode": {
    "name": "ipython",
    "version": 3
   },
   "file_extension": ".py",
   "mimetype": "text/x-python",
   "name": "python",
   "nbconvert_exporter": "python",
   "pygments_lexer": "ipython3",
   "version": "3.8.8"
  }
 }
: 4,
 "nbformat_minor": 5
}


 /* Font Definitions */
 @font-face
	{font-family:"Cambria Math";
	panose-1:2 4 5 3 5 4 6 3 2 4;
	mso-font-charset:0;
	mso-generic-font-family:roman;
	mso-font-pitch:variable;
	mso-font-signature:-536869121 1107305727 33554432 0 415 0;}
 /* Style Definitions */
 p.MsoNormal, li.MsoNormal, div.MsoNormal
	{mso-style-unhide:no;
	mso-style-qformat:yes;
	mso-style-parent:"";
	margin:0cm;
	mso-pagination:widow-orphan;
	font-size:12.0pt;
	font-family:"Times New Roman",serif;
	mso-fareast-font-family:"Times New Roman";
	mso-fareast-theme-font:minor-fareast;}
p.msonormal0, li.msonormal0, div.msonormal0
	{mso-style-name:msonormal;
	mso-style-unhide:no;
	mso-margin-top-alt:auto;
	margin-right:0cm;
	mso-margin-bottom-alt:auto;
	margin-left:0cm;
	mso-pagination:widow-orphan;
	font-size:12.0pt;
	font-family:"Times New Roman",serif;
	mso-fareast-font-family:"Times New Roman";
	mso-fareast-theme-font:minor-fareast;}
span.SpellE
	{mso-style-name:"";
	mso-spl-e:yes;}
.MsoChpDefault
	{mso-style-type:export-only;
	mso-default-props:yes;
	font-size:10.0pt;
	mso-ansi-font-size:10.0pt;
	mso-bidi-font-size:10.0pt;}
@page WordSection1
	{size:595.3pt 841.9pt;
	margin:72.0pt 72.0pt 72.0pt 72.0pt;
	mso-header-margin:35.4pt;
	mso-footer-margin:35.4pt;
	mso-paper-source:0;}
div.WordSection1
	{page:WordSection1;}
-->
</style>
<!--[if gte mso 10]>
<style>
 /* Style Definitions */
 table.MsoNormalTable
	{mso-style-name:"Table Normal";
	mso-tstyle-rowband-size:0;
	mso-tstyle-colband-size:0;
	mso-style-noshow:yes;
	mso-style-priority:99;
	mso-style-parent:"";
	mso-padding-alt:0cm 5.4pt 0cm 5.4pt;
	mso-para-margin:0cm;
	mso-pagination:widow-orphan;
	font-size:10.0pt;
	font-family:"Times New Roman",serif;}
</style>
<![endif]--><!--[if gte mso 9]><xml>
 <o:shapedefaults v:ext="edit" spidmax="1026"/>
</xml><![endif]--><!--[if gte mso 9]><xml>
 <o:shapelayout v:ext="edit">
  <o:idmap v:ext="edit" data="1"/>
 </o:shapelayout></xml><![endif]-->
</head>

<body lang=EN-IN style='tab-interval:36.0pt;word-wrap:break-word'>

<div class=WordSection1>

<p class=MsoNormal><span style='mso-fareast-font-family:"Times New Roman"'>{
&quot;cells&quot;: [ { &quot;<span class=SpellE>cell_type</span>&quot;:
&quot;markdown&quot;, &quot;id&quot;: &quot;3de44edf&quot;,
&quot;metadata&quot;: {}, &quot;source&quot;: [ &quot;# <span class=SpellE>LetsGrowMore</span>
- LGM - Data Science And Business Analytics &#8211; May 2022&quot; ] }, {
&quot;<span class=SpellE>cell_type</span>&quot;: &quot;markdown&quot;,
&quot;id&quot;: &quot;43469db4&quot;, &quot;metadata&quot;: {},
&quot;source&quot;: [ &quot;# Task 1 :- Iris Flowers Classification ML
Project&quot; ] }, { &quot;<span class=SpellE>cell_type</span>&quot;:
&quot;markdown&quot;, &quot;id&quot;: &quot;ec551392&quot;,
&quot;metadata&quot;: {}, &quot;source&quot;: [ &quot;# Author : Kalyani
Pusadkar&quot; ] }, { &quot;<span class=SpellE>cell_type</span>&quot;:
&quot;markdown&quot;, &quot;id&quot;: &quot;08902bf7&quot;,
&quot;metadata&quot;: {}, &quot;source&quot;: [ &quot;### Problem Statement:
From the given 'Iris\&quot; dataset, predict the optimum number of clusters and
represent it visually.&quot; ] }, { &quot;<span class=SpellE>cell_type</span>&quot;:
&quot;markdown&quot;, &quot;id&quot;: &quot;150ff5e0&quot;,
&quot;metadata&quot;: {}, &quot;source&quot;: [ &quot;### Importing
Libraries&quot; ] }, { &quot;<span class=SpellE>cell_type</span>&quot;:
&quot;code&quot;, &quot;<span class=SpellE>execution_count</span>&quot;: 12,
&quot;id&quot;: &quot;b0b2fe1a&quot;, &quot;metadata&quot;: {},
&quot;outputs&quot;: [], &quot;source&quot;: [ &quot;# Importing the
libraries\n&quot;, &quot;import pandas as pd\n&quot;, &quot;import <span
class=SpellE>numpy</span> as np\n&quot;, &quot;import <span class=SpellE>matplotlib.pyplot</span>
as <span class=SpellE>plt</span>\n&quot;, &quot;from <span class=SpellE>sklearn</span>
import datasets\n&quot;, &quot;import seaborn as <span class=SpellE>sb</span>&quot;
] }, { &quot;<span class=SpellE>cell_type</span>&quot;: &quot;markdown&quot;,
&quot;id&quot;: &quot;9182916f&quot;, &quot;metadata&quot;: {},
&quot;source&quot;: [ &quot;### Loading the iris dataset&quot; ] }, { &quot;<span
class=SpellE>cell_type</span>&quot;: &quot;code&quot;, &quot;<span
class=SpellE>execution_count</span>&quot;: 13, &quot;id&quot;:
&quot;e4bc5550&quot;, &quot;metadata&quot;: {}, &quot;outputs&quot;: [ {
&quot;data&quot;: { &quot;text/html&quot;: [ &quot;<o:p></o:p></span></p>

<div>

<p class=MsoNormal><span style='mso-fareast-font-family:"Times New Roman"'>\n&quot;,
&quot;<o:p></o:p></span></p>

</div>

</div>

</body>

</html>
